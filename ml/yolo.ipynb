{
 "cells": [
  {
   "cell_type": "code",
   "execution_count": 1,
   "metadata": {},
   "outputs": [],
   "source": [
    "import glob\n",
    "import json\n",
    "import os\n",
    "from typing import List\n",
    "\n",
    "import cv2\n",
    "import detectron2.data.transforms as T\n",
    "import matplotlib.pyplot as plt\n",
    "import torch\n",
    "from detectron2 import model_zoo\n",
    "from detectron2.config import get_cfg\n",
    "from detectron2.data import (\n",
    "    DatasetCatalog,\n",
    "    DatasetMapper,\n",
    "    MetadataCatalog,\n",
    "    build_detection_test_loader,\n",
    "    build_detection_train_loader,\n",
    ")\n",
    "from detectron2.engine import DefaultPredictor, DefaultTrainer\n",
    "from detectron2.evaluation import COCOEvaluator, inference_on_dataset\n",
    "from detectron2.utils.visualizer import Visualizer\n",
    "from utils import (\n",
    "    annotate_polygons,\n",
    "    basic_augmentation,\n",
    "    create_dataset_dicts,\n",
    "    create_train_augmentations,\n",
    "    move_train_test,\n",
    ")\n",
    "from detectron2.data.datasets import register_coco_instances"
   ]
  },
  {
   "cell_type": "code",
   "execution_count": 2,
   "metadata": {},
   "outputs": [
    {
     "data": {
      "text/plain": [
       "0"
      ]
     },
     "execution_count": 2,
     "metadata": {},
     "output_type": "execute_result"
    }
   ],
   "source": [
    "torch.cuda.empty_cache()\n",
    "torch.cuda.memory_allocated()"
   ]
  },
  {
   "cell_type": "code",
   "execution_count": 3,
   "metadata": {},
   "outputs": [],
   "source": [
    "move_train_test(\"../data/bh\")"
   ]
  },
  {
   "cell_type": "code",
   "execution_count": 4,
   "metadata": {},
   "outputs": [],
   "source": [
    "for dataset_type in [\"train\", \"test\"]:\n",
    "    DatasetCatalog.register(\n",
    "        f\"yolo_{dataset_type}\",\n",
    "        lambda d=dataset_type: create_dataset_dicts(f\"../data/bh/{d}\"),\n",
    "    )\n",
    "MetadataCatalog.get(f\"yolo_{dataset_type}\").thing_classes = [\"yolo\", \"volume\"]\n",
    "hold_metadata_train = MetadataCatalog.get(\"yolo_train\")\n",
    "hold_metadata_test = MetadataCatalog.get(\"yolo_test\")"
   ]
  },
  {
   "cell_type": "code",
   "execution_count": null,
   "metadata": {},
   "outputs": [],
   "source": [
    "cfg = get_cfg()\n",
    "cfg.merge_from_file(\n",
    "    model_zoo.get_config_file(\"COCO-Detection/faster_rcnn_X_101_32x8d_FPN_3x.yaml\")\n",
    ")\n",
    "\n",
    "cfg.MODEL.DEVICE='cpu'\n",
    "cfg.DATASETS.TRAIN = (\"yolo_train\",)\n",
    "cfg.DATASETS.TEST = ()\n",
    "cfg.DATALOADER.NUM_WORKERS = 2\n",
    "cfg.MODEL.WEIGHTS = model_zoo.get_checkpoint_url(\"COCO-Detection/faster_rcnn_X_101_32x8d_FPN_3x.yaml\")\n",
    "cfg.SOLVER.IMS_PER_BATCH = 2\n",
    "cfg.SOLVER.BASE_LR = 0.00125\n",
    "cfg.SOLVER.MAX_ITER = 50\n",
    "cfg.SOLVER.STEPS = [] \n",
    "cfg.MODEL.ROI_HEADS.BATCH_SIZE_PER_IMAGE = 32\n",
    "cfg.MODEL.ROI_HEADS.NUM_CLASSES = 4\n",
    "experiment_name = \"Yolo_Detection_Basic\"\n",
    "output_dir = \"output\"\n",
    "\n",
    "cfg.OUTPUT_DIR = os.path.join(output_dir, experiment_name)\n",
    "os.makedirs(cfg.OUTPUT_DIR, exist_ok=True)\n",
    "with open(os.path.join(cfg.OUTPUT_DIR, \"yolo_experiment_config.yml\"), \"w\") as f:\n",
    "    f.write(cfg.dump())\n",
    "trainer = DefaultTrainer(cfg)\n",
    "trainer.resume_or_load(resume=False)\n",
    "trainer.train()"
   ]
  },
  {
   "cell_type": "code",
   "execution_count": null,
   "metadata": {},
   "outputs": [
    {
     "name": "stdout",
     "output_type": "stream",
     "text": [
      "\u001b[32m[03/30 12:43:24 d2.checkpoint.detection_checkpoint]: \u001b[0m[DetectionCheckpointer] Loading from output\\Yolo_Detection_Basic\\yolo_final.pth ...\n"
     ]
    }
   ],
   "source": [
    "cfg.MODEL.WEIGHTS = os.path.join(cfg.OUTPUT_DIR, \"yolo_final.pth\")\n",
    "cfg.MODEL.ROI_HEADS.SCORE_THRESH_TEST = 0.6  # confidence threshold for testing\n",
    "cfg.DETECTIONS_PER_IMAGE = 300\n",
    "cfg.DATASETS.TEST = (\"yolo_test\",)\n",
    "predictor = DefaultPredictor(cfg)"
   ]
  },
  {
   "cell_type": "code",
   "execution_count": null,
   "metadata": {},
   "outputs": [],
   "source": [
    "for dataset_type in [\"bh-phone\", \"sm\"]:\n",
    "    DatasetCatalog.register(\n",
    "        f\"yolo_{dataset_type}\",\n",
    "        lambda d=dataset_type: create_dataset_dicts(f\"../data/{d}\"),\n",
    "    )\n",
    "    MetadataCatalog.get(f\"yolo_{dataset_type}\").thing_classes = [\"yolo\", \"volume\"]"
   ]
  },
  {
   "cell_type": "code",
   "execution_count": null,
   "metadata": {},
   "outputs": [],
   "source": [
    "for i, file_name in enumerate([\"../data/sm/108.jpg\", \"../data/bh/test/_DSC9396.jpg\"]):\n",
    "    im = cv2.imread(file_name)\n",
    "    outputs = predictor(im)\n",
    "    v = Visualizer(\n",
    "        im[:, :, ::-1],\n",
    "        metadata=hold_metadata_test,\n",
    "        scale=0.5,\n",
    "    )\n",
    "    out_predictions = v.draw_instance_predictions(outputs[\"instances\"].to(\"cpu\"))\n",
    "    fname = file_name.split(\"/\")[-1].split(\".\")[0]\n",
    "    fig, ax = plt.subplots()\n",
    "    ax.axis(\"off\")\n",
    "    ax.imshow(out_predictions.get_image())\n",
    "    fig.savefig(f\"{fname}-labeled.jpg\", bbox_inches=\"tight\", dpi=300)"
   ]
  },
  {
   "cell_type": "code",
   "execution_count": null,
   "metadata": {},
   "outputs": [],
   "source": [
    "evaluator = COCOEvaluator(\n",
    "    \"yolo_test\", output_dir=\"./output\", max_dets_per_image=cfg.DETECTIONS_PER_IMAGE\n",
    ")\n",
    "test_loader = build_detection_test_loader(cfg, \"yolo_test\")\n",
    "print(inference_on_dataset(predictor.model, test_loader, evaluator))"
   ]
  },
  {
   "cell_type": "code",
   "execution_count": null,
   "metadata": {},
   "outputs": [],
   "source": [
    "for fpath in glob.glob(\"output/Yolo*/\"):\n",
    "    cfg = get_cfg()\n",
    "    cfg.merge_from_file(os.path.join(fpath, \"experiment_config.yml\"))\n",
    "    cfg.MODEL.WEIGHTS = os.path.join(fpath, \"yolo_final.pth\")\n",
    "    cfg.MODEL.ROI_HEADS.SCORE_THRESH_TEST = 0.6  # confidence threshold for testing\n",
    "    cfg.DETECTIONS_PER_IMAGE = 300\n",
    "    cfg.DATASETS.TEST = (\"yolo_test\", \"yolo_sm\", \"yolo_bh-phone\")\n",
    "    predictor = DefaultPredictor(cfg)\n",
    "\n",
    "    results = {}\n",
    "    for dataset in cfg.DATASETS.TEST:\n",
    "        evaluator = COCOEvaluator(\n",
    "            dataset, output_dir=\"./output\", max_dets_per_image=cfg.DETECTIONS_PER_IMAGE\n",
    "        )\n",
    "        test_loader = build_detection_test_loader(cfg, dataset)\n",
    "        result = inference_on_dataset(predictor.model, test_loader, evaluator)\n",
    "        results[dataset] = result\n",
    "\n",
    "    # Dump results in model dir\n",
    "    with open(os.path.join(fpath, \"yolo_test_results.json\"), \"w\") as f:\n",
    "        json.dump(results, f)\n",
    "    del predictor.model\n",
    "    del predictor"
   ]
  },
  {
   "cell_type": "code",
   "execution_count": null,
   "metadata": {},
   "outputs": [],
   "source": []
  }
 ],
 "metadata": {
  "kernelspec": {
   "display_name": "Hei-CV-Final-2022-23",
   "language": "python",
   "name": "python3"
  },
  "language_info": {
   "codemirror_mode": {
    "name": "ipython",
    "version": 3
   },
   "file_extension": ".py",
   "mimetype": "text/x-python",
   "name": "python",
   "nbconvert_exporter": "python",
   "pygments_lexer": "ipython3",
   "version": "3.11.2"
  },
  "orig_nbformat": 4
 },
 "nbformat": 4,
 "nbformat_minor": 2
}
